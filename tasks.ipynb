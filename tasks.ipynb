{
 "cells": [
  {
   "cell_type": "markdown",
   "metadata": {},
   "source": [
    "# Tasks"
   ]
  },
  {
   "cell_type": "markdown",
   "metadata": {},
   "source": [
    "***"
   ]
  },
  {
   "cell_type": "markdown",
   "metadata": {},
   "source": [
    "## Research on Task 1 (Binary Representations)"
   ]
  },
  {
   "cell_type": "markdown",
   "metadata": {},
   "source": [
    "**Binary representation** uses the two digits 0 and 1 to represent data, text, or numbers. Computers employ this architecture because binary logic is how they function. Each digit in binary is referred to as a **bit**, and a byte is made up of eight bits. Binary numbers represent values in base-2, as opposed to base-10 in decimal.\n"
   ]
  },
  {
   "cell_type": "markdown",
   "metadata": {},
   "source": [
    "### Bit Shifts\n",
    "\n",
    "Bit shifting is a fundamental operation in computing that moves the bits of a binary number left or right, often used for fast arithmetic operations. \n",
    "\n",
    "A **left shift** (<<) moves bits to the left, filling the emptied positions with zeros. This effectively multiplies the number by powers of two (e.g., x << n is equivalent to x * 2^n). \n",
    "\n",
    "A **right shift** (>>) moves bits to the right and comes in two types: logical right shift, which fills the leftmost bits with zeros (used for unsigned numbers), and arithmetic right shift, which preserves the sign bit for signed numbers (keeping negative values negative). Right shifts effectively divide numbers by powers of two (e.g., x >> n is equivalent to x / 2^n).\n",
    "\n",
    "### Circular Shifts\n",
    "\n",
    "A **circular shift** (also called a **bitwise rotation**) moves bits left or right, wrapping the overflowed bits around to the other end. Unlike regular shifts, which discard bits, circular shifts preserve all bits, making them useful in cryptography and low-level optimizations.\n",
    "\n",
    "- **Left Rotate (`ROTL`)**: Moves bits left, placing overflowed bits on the right.  \n",
    "- **Right Rotate (`ROTR`)**: Moves bits right, placing overflowed bits on the left.\n",
    "\n",
    "\n",
    " [Bit Shift Operations](https://www.geeksforgeeks.org/left-shift-right-shift-operators-c-cpp/)"
   ]
  },
  {
   "cell_type": "markdown",
   "metadata": {},
   "source": [
    "## Task 1: Binary Representations"
   ]
  },
  {
   "cell_type": "code",
   "execution_count": 16,
   "metadata": {},
   "outputs": [],
   "source": [
    "import struct\n",
    "\n",
    "# Math.\n",
    "import math\n",
    "\n",
    "# NumPy.\n",
    "import numpy as np\n",
    "\n",
    "import os\n",
    "\n",
    "import hashlib"
   ]
  },
  {
   "cell_type": "code",
   "execution_count": 17,
   "metadata": {},
   "outputs": [],
   "source": [
    "def rotl(x, n=1):\n",
    "    \"\"\"Rotate bits in a 32-bit unsigned integer to the left n places.\"\"\"\n",
    "    return ((x << n) | (x >> (32 - n))) & 0xFFFFFFFF"
   ]
  },
  {
   "cell_type": "markdown",
   "metadata": {},
   "source": [
    "This function rotates the bits of a 32-bit unsigned integer x to the left by n positions. It does this by shifting x left by n bits and shifting the overflowed bits from the left back to the right, ensuring the result stays within 32 bits using & 0xFFFFFFFF."
   ]
  },
  {
   "cell_type": "code",
   "execution_count": 18,
   "metadata": {},
   "outputs": [],
   "source": [
    "def rotr(x, n=1):\n",
    "    \"\"\"Rotate bits in a 32-bit unsigned integer to the right n places.\"\"\"\n",
    "    return ((x >> n) | (x << (32 - n))) & 0xFFFFFFFF"
   ]
  },
  {
   "cell_type": "markdown",
   "metadata": {},
   "source": [
    "This function rotates the bits of a 32-bit unsigned integer x to the right by n positions. It does this by shifting x right by n bits and moving the bits that fall off back to the left, ensuring the result stays within 32 bits using & 0xFFFFFFFF."
   ]
  },
  {
   "cell_type": "code",
   "execution_count": 19,
   "metadata": {},
   "outputs": [],
   "source": [
    "def ch(x, y, z):\n",
    "    \"\"\"Choose bits from y where x has bits set to 1, and from z where x has bits set to 0.\"\"\"\n",
    "    return (x & y) ^ (~x & z)"
   ]
  },
  {
   "cell_type": "markdown",
   "metadata": {},
   "source": [
    "This function selects bits from y where x has 1s and from z where x has 0s. It works by using bitwise AND (&) to mask y with x, bitwise NOT (~) to invert x and mask z, and XOR (^) to combine the results."
   ]
  },
  {
   "cell_type": "code",
   "execution_count": 20,
   "metadata": {},
   "outputs": [],
   "source": [
    "def maj(x, y, z):\n",
    "    \"\"\"Majority vote of the bits in x, y, and z.\"\"\"\n",
    "    return (x & y) ^ (x & z) ^ (y & z)"
   ]
  },
  {
   "cell_type": "markdown",
   "metadata": {},
   "source": [
    "This function computes the majority vote for each bit position among x, y, and z, meaning a bit is set if at least two of the three inputs have it set. It achieves this by using bitwise AND (&) to find common bits in pairs and then combining them with XOR (^)."
   ]
  },
  {
   "cell_type": "code",
   "execution_count": 21,
   "metadata": {},
   "outputs": [
    {
     "name": "stdout",
     "output_type": "stream",
     "text": [
      "rotl(13, 1): 0b11010\n",
      "rotr(13, 1): 0b10000000000000000000000000000110\n",
      "ch(13, 11, 6): 0b1011\n",
      "maj(13, 11, 6): 0b1111\n"
     ]
    }
   ],
   "source": [
    "# Some Example Test Cases\n",
    "def test_functions():\n",
    "    x = 0b1101  # 13 in decimal\n",
    "    y = 0b1011  # 11 in decimal\n",
    "    z = 0b0110  # 6 in decimal\n",
    "    \n",
    "    print(\"rotl(13, 1):\", bin(rotl(x, 1)))\n",
    "    print(\"rotr(13, 1):\", bin(rotr(x, 1)))\n",
    "    print(\"ch(13, 11, 6):\", bin(ch(x, y, z)))\n",
    "    print(\"maj(13, 11, 6):\", bin(maj(x, y, z)))\n",
    "\n",
    "# Run the tests\n",
    "if __name__ == \"__main__\":\n",
    "    test_functions()"
   ]
  },
  {
   "cell_type": "markdown",
   "metadata": {},
   "source": [
    "***"
   ]
  },
  {
   "cell_type": "markdown",
   "metadata": {},
   "source": [
    "## Research Task 2 (Hash Functions)\n",
    "\n",
    "A **hash function** is an algorithm that takes an input (e.g., a string) and converts it into a fixed-size numerical value, known as a **hash**. This is useful for efficiently storing and retrieving data in structures like hash tables.\n",
    "[Hash Function](https://www.geeksforgeeks.org/hash-functions-and-list-types-of-hash-functions/)"
   ]
  },
  {
   "cell_type": "markdown",
   "metadata": {},
   "source": [
    "The Original C Code:\n",
    "\n",
    "```c\n",
    "unsigned hash(char *s) {\n",
    "    unsigned hashval;\n",
    "    for (hashval = 0; *s != '\\0'; s++)\n",
    "        hashval = *s + 31 * hashval;\n",
    "    return hashval % 101;\n",
    "}\n"
   ]
  },
  {
   "cell_type": "markdown",
   "metadata": {},
   "source": [
    "## Task 2: Hash Functions"
   ]
  },
  {
   "cell_type": "markdown",
   "metadata": {},
   "source": [
    "Code coverted to Python:"
   ]
  },
  {
   "cell_type": "code",
   "execution_count": 22,
   "metadata": {},
   "outputs": [],
   "source": [
    "def hash_function(s):\n",
    "    \"\"\"Hash function from The C Programming Language by Kernighan and Ritchie.\"\"\"\n",
    "    hashval = 0\n",
    "    for char in s:\n",
    "        hashval = ord(char) + 31 * hashval\n",
    "    return hashval % 101\n"
   ]
  },
  {
   "cell_type": "code",
   "execution_count": 23,
   "metadata": {},
   "outputs": [
    {
     "name": "stdout",
     "output_type": "stream",
     "text": [
      "hash_function('hello'): 17\n",
      "hash_function('world'): 34\n",
      "hash_function('hash'): 15\n",
      "hash_function('function'): 100\n",
      "hash_function('test'): 86\n"
     ]
    }
   ],
   "source": [
    "    # Test the hash function\n",
    "test_strings = [\"hello\", \"world\", \"hash\", \"function\", \"test\"]\n",
    "for s in test_strings:\n",
    "        print(f\"hash_function('{s}'): {hash_function(s)}\")"
   ]
  },
  {
   "cell_type": "markdown",
   "metadata": {},
   "source": [
    "### Why use 31 and 101?\n",
    "\n",
    "- **31 as a Multiplier:**\n",
    "    - 31 is a prime number, which helps **reduce collisions** (i.e., different strings producing the same hash).\n",
    "    - It ensures a good distribution of hash values.\n",
    "    - It's also efficient for computation because 31 * x can be optimized as (x << 5) - x (bit shifting).\n",
    " - **101 as a Modulus:**\n",
    "    - 101 is a prime number, ensuring **even distribution** of hash values.\n",
    "    - Using a prime modulus helps minimize patterns in hash outputs, improving performance in hash tables."
   ]
  },
  {
   "cell_type": "markdown",
   "metadata": {},
   "source": [
    "***"
   ]
  },
  {
   "cell_type": "markdown",
   "metadata": {},
   "source": [
    "## Research on Task 3 (SHA256 Padding)"
   ]
  },
  {
   "cell_type": "markdown",
   "metadata": {},
   "source": [
    "**SHA-256** performs best when the message is **512 bits** in size, however let's say you have a message of varying lengths. Therefore, you add a few more bits to make your message the proper length if it is too short. Imagine it as filling a whole page with additional spaces at the end of sentences.\n",
    "\n",
    "**SHA-256** begins with a series of numbers known as **\"initialisation vectors,\"** which are similar to secret codes. These numbers serve as the process's **beginning point**.\n",
    "\n",
    "Your padded message is now separated into **512-bit pieces**.  Similar to going through a book page by page, SHA-256 operates on these blocks one at a time.  The data in each block is mixed up and altered using unique mathematical and logical procedures.\n",
    "\n",
    "Every 512-bit block contains a unique step known as the **\"compression function.\"**  It functions similarly to a machine that further muddles the block.  \n",
    "\n",
    "Following the processing and mixing of each block, SHA-256 combines them to create a final 256-bit value that we refer to as the **\"hash value.\"**  This value serves as your original message's distinct fingerprint.  It is the result of running your message through the SHA-256 algorithm. \n",
    "\n",
    "[SHA256 Padding](https://medium.com/@bajrang1081siyag/how-sha-256-works-4951088ab9f8#:~:text=Imagine%20you%20have%20a%20message,to%20fill%20a%20whole%20page.)\n"
   ]
  },
  {
   "cell_type": "markdown",
   "metadata": {},
   "source": [
    "SHA-256 processes messages in **512-bit (64-byte) blocks**. If a message is not a multiple of 512 bits, padding is added to align it correctly. The padding follows these rules:  \n",
    "\n",
    "1. **Append a single `1` bit** (`0x80` in hex).  \n",
    "2. **Append enough `0` bits** to make the total length (including padding) **448 bits** (since the last 64 bits are reserved for length storage).  \n",
    "3. **Append the original message length** (in bits) as a **64-bit big-endian integer**.  "
   ]
  },
  {
   "cell_type": "markdown",
   "metadata": {},
   "source": [
    "## Task 3: SHA256"
   ]
  },
  {
   "cell_type": "code",
   "execution_count": 24,
   "metadata": {},
   "outputs": [],
   "source": [
    "def sha256_padding(file_path):\n",
    "    \"\"\"Calculate the SHA256 padding for the given file and print it in hex.\"\"\"\n",
    "    with open(file_path, 'rb') as f:\n",
    "        data = f.read()\n",
    "    \n",
    "    length = len(data) * 8  # Length in bits\n",
    "    padding = b'\\x80'  # Starts with a single '1' bit\n",
    "    \n",
    "    # Now calculate the required padding length\n",
    "    while (len(data) + len(padding) + 8) % 64 != 0:\n",
    "        padding += b'\\x00'\n",
    "\n",
    "    # Append the original length as 64-bit big-endian\n",
    "    padding += length.to_bytes(8, 'big')\n",
    "    \n",
    "    # Print the padding in hex format\n",
    "    print(\" \".join(f\"{byte:02x}\" for byte in padding))"
   ]
  },
  {
   "cell_type": "code",
   "execution_count": 25,
   "metadata": {},
   "outputs": [
    {
     "name": "stdout",
     "output_type": "stream",
     "text": [
      "80 00 00 00 00 00 00 00 00 00 00 00 00 00 00 00 00 00 00 00 00 00 00 00 00 00 00 00 00 00 00 00 00 00 00 00 00 d0\n"
     ]
    }
   ],
   "source": [
    "sha256_padding(\"SHA256_padding_test.txt\")"
   ]
  },
  {
   "cell_type": "markdown",
   "metadata": {},
   "source": [
    "----"
   ]
  },
  {
   "cell_type": "markdown",
   "metadata": {},
   "source": [
    "## Task 4: Prime Numbers"
   ]
  },
  {
   "cell_type": "markdown",
   "metadata": {},
   "source": [
    "### Prime Numbers\n",
    "\n",
    "Numbers with only two components—1 and the number itself—are known as **prime numbers**. Take number 5, for instance, which merely consists of the elements 1 and 5. It is therefore a prime number. Let's look at another instance where the number 6 has **more than two components**, such as 1, 2, 3, and 6. Six is therefore **not** a prime number. We now know that the number 1 has only one element if we use it as an example. Since a prime number must have **precisely two elements**, it cannot be a prime number. This indicates that 1 is a unique number rather than a prime or composite number.\n",
    "\n",
    "[Prime Numbers](https://www.cuemath.com/numbers/prime-numbers/)"
   ]
  },
  {
   "cell_type": "markdown",
   "metadata": {},
   "source": [
    "### Sieve of Eratosthenes\n",
    "\n",
    "When n is less than about 10 million, the **Sieve of Eratosthenes** is one of the most effective methods for locating all primes smaller than n. \n",
    "\n",
    "[Sieve of Eratosthenes](https://www.geeksforgeeks.org/sieve-of-eratosthenes/)\n",
    "\n",
    "The Sieve of Eratosthenes algorithm can be used to locate all prime numbers up to 100.\n",
    "\n",
    "Here are the steps:\n",
    "\n",
    "1. **Initialize the Sieve:**\n",
    "    - Make a list of boolean values named ``sieve`` and set its starting value to ``True``. To make sure there are enough numbers to locate the first limit primes, the list's size is ``limit * 10``.\n",
    "    - Set ``sieve[0]`` and ``sieve[1]`` to ``False`` because 0 and 1 are not prime numbers.\n",
    "\n",
    "2. **Iterate Through the Sieve:**\n",
    "    - Loop through the ``sieve`` starting from ``num = 2`` (the smallest prime number).\n",
    "\n",
    "3. **Check if the Number is Prime:**\n",
    "    - If ``sieve[num]`` is ``True``, it means num is a prime number.\n",
    "    - Append ``num`` to the primes list.\n",
    "\n",
    "4. **Stop if the Desired Number of Primes is Found:**\n",
    "    - If the length of the ``primes`` list reaches ``limit``, return the list of primes.\n",
    "\n",
    "5. **Mark Multiples of the Prime as Non-Prime:**\n",
    "    - For each prime number ``num``, mark all its multiples as ``False`` in the sieve (starting from ``num * num`` to avoid redundant work).\n",
    "\n",
    "6. **Return the List of Primes:**\n",
    "    - Once the loop finishes, the function returns the list of the first limit prime numbers.\n",
    "\n",
    "\n",
    "[Steps For Sieve of Eratosthenes](https://www.topcoder.com/thrive/articles/sieve-of-eratosthenes-algorithm)"
   ]
  },
  {
   "cell_type": "code",
   "execution_count": 26,
   "metadata": {},
   "outputs": [],
   "source": [
    "def sieve_of_eratosthenes(limit):\n",
    "    \"\"\"Finds the first `limit` prime numbers using the Sieve of Eratosthenes algorithm.\"\"\"\n",
    "    primes = []\n",
    "    sieve = [True] * (limit * 10)\n",
    "    sieve[0] = sieve[1] = False  # 0 and 1 are not prime\n",
    "\n",
    "    for num in range(2, len(sieve)):\n",
    "        if sieve[num]:\n",
    "            primes.append(num)\n",
    "            if len(primes) == limit:\n",
    "                return primes\n",
    "            for multiple in range(num * num, len(sieve), num):\n",
    "                sieve[multiple] = False"
   ]
  },
  {
   "cell_type": "markdown",
   "metadata": {},
   "source": [
    "### Trial Division\n",
    "\n",
    "Trial Division is another method used to find prime numbers. The way it works is that it attempts to divide a prime number by less than or equal to its square root; if no such prime numeber divides it evenly, the number is prime. [Trial Division](https://t5k.org/glossary/page.php?sort=TrialDivision)"
   ]
  },
  {
   "cell_type": "markdown",
   "metadata": {},
   "source": [
    "Trial Divison is a straight forward approach to finding Prime numbers.\n",
    "\n",
    "Here are the steps:\n",
    "\n",
    "1. **Initialize an empty list** to store prime numbers.  \n",
    "2. **Start with `num = 2`**, the smallest prime number.  \n",
    "3. **Check if `num` is prime**:  \n",
    "   - A number is prime if it is **not divisible** by any previously found prime numbers.  \n",
    "4. **If `num` is prime, add it to the list**.  \n",
    "5. **Move to the next number (`num += 1`) and repeat** until `limit` prime numbers are found.  \n",
    "6. **Return the list of prime numbers**.\n",
    "\n",
    "[Steps for Trial Division](https://www.geeksforgeeks.org/python-program-to-check-whether-a-number-is-prime-or-not/)\n",
    "\n",
    "\n"
   ]
  },
  {
   "cell_type": "code",
   "execution_count": 27,
   "metadata": {},
   "outputs": [],
   "source": [
    "def trial_division(limit):\n",
    "    \"\"\"Finds the first `limit` prime numbers using trial division.\"\"\"\n",
    "    primes = []\n",
    "    num = 2\n",
    "    while len(primes) < limit:\n",
    "        is_prime = all(num % prime != 0 for prime in primes)\n",
    "        if is_prime:\n",
    "            primes.append(num)\n",
    "        num += 1\n",
    "    return primes"
   ]
  },
  {
   "cell_type": "markdown",
   "metadata": {},
   "source": [
    "### Tests\n",
    "\n",
    "Here we test the generation of prime numebers using the Sieve of Eratosthenes and the Trial Divison methods"
   ]
  },
  {
   "cell_type": "code",
   "execution_count": 28,
   "metadata": {},
   "outputs": [
    {
     "name": "stdout",
     "output_type": "stream",
     "text": [
      "First 100 primes using Sieve of Eratosthenes:\n",
      "[2, 3, 5, 7, 11, 13, 17, 19, 23, 29, 31, 37, 41, 43, 47, 53, 59, 61, 67, 71, 73, 79, 83, 89, 97, 101, 103, 107, 109, 113, 127, 131, 137, 139, 149, 151, 157, 163, 167, 173, 179, 181, 191, 193, 197, 199, 211, 223, 227, 229, 233, 239, 241, 251, 257, 263, 269, 271, 277, 281, 283, 293, 307, 311, 313, 317, 331, 337, 347, 349, 353, 359, 367, 373, 379, 383, 389, 397, 401, 409, 419, 421, 431, 433, 439, 443, 449, 457, 461, 463, 467, 479, 487, 491, 499, 503, 509, 521, 523, 541]\n",
      "First 100 primes using Trial Division:\n",
      "[2, 3, 5, 7, 11, 13, 17, 19, 23, 29, 31, 37, 41, 43, 47, 53, 59, 61, 67, 71, 73, 79, 83, 89, 97, 101, 103, 107, 109, 113, 127, 131, 137, 139, 149, 151, 157, 163, 167, 173, 179, 181, 191, 193, 197, 199, 211, 223, 227, 229, 233, 239, 241, 251, 257, 263, 269, 271, 277, 281, 283, 293, 307, 311, 313, 317, 331, 337, 347, 349, 353, 359, 367, 373, 379, 383, 389, 397, 401, 409, 419, 421, 431, 433, 439, 443, 449, 457, 461, 463, 467, 479, 487, 491, 499, 503, 509, 521, 523, 541]\n"
     ]
    }
   ],
   "source": [
    "# Test prime number generation\n",
    "print(\"First 100 primes using Sieve of Eratosthenes:\")\n",
    "print(sieve_of_eratosthenes(100))\n",
    "    \n",
    "print(\"First 100 primes using Trial Division:\")\n",
    "print(trial_division(100))"
   ]
  },
  {
   "cell_type": "markdown",
   "metadata": {},
   "source": [
    "----"
   ]
  },
  {
   "cell_type": "markdown",
   "metadata": {},
   "source": [
    "## Task 5: Roots"
   ]
  },
  {
   "cell_type": "markdown",
   "metadata": {},
   "source": [
    "The **Sieve of Eratosthenes** is a much moe effecient way of generating prime numbers comapared to **Trial Division**. We can use a more advanced version of the Sieve of Eratosthenes to help us calculate the first 32 bits of the fractional part of the square roots of the first 100 prime numbers."
   ]
  },
  {
   "cell_type": "markdown",
   "metadata": {},
   "source": [
    "We can use the function from the previous task to get the prime numbers from 0 - 100. To calculate the first 32 bits of the fractional part of the sqaure roots we can follow these steps:\n",
    "\n",
    "1. **Compute the square root** of the given prime number using `math.sqrt(prime)`.  \n",
    "2. **Extract the fractional part** of the square root using `math.modf()`.  \n",
    "   - `math.modf(x)` returns a tuple `(fractional_part, integer_part)`.  \n",
    "   - We only need the `fractional_part`.  \n",
    "3. **Convert the fractional part to a 32-bit integer**:  \n",
    "   - Multiply the fractional part by \\(2^{32}\\) (`0x100000000`).  \n",
    "   - Take the **integer part** of the result using `int()`.  \n",
    "4. **Return the computed 32-bit value**, which represents the fractional part of the square root in binary.  \n"
   ]
  },
  {
   "cell_type": "code",
   "execution_count": 29,
   "metadata": {},
   "outputs": [
    {
     "name": "stdout",
     "output_type": "stream",
     "text": [
      "Prime: 2, 32-bit root fraction: 6A09E667\n",
      "Prime: 3, 32-bit root fraction: BB67AE85\n",
      "Prime: 5, 32-bit root fraction: 3C6EF372\n",
      "Prime: 7, 32-bit root fraction: A54FF53A\n",
      "Prime: 11, 32-bit root fraction: 510E527F\n",
      "Prime: 13, 32-bit root fraction: 9B05688C\n",
      "Prime: 17, 32-bit root fraction: 1F83D9AB\n",
      "Prime: 19, 32-bit root fraction: 5BE0CD19\n",
      "Prime: 23, 32-bit root fraction: CBBB9D5D\n",
      "Prime: 29, 32-bit root fraction: 629A292A\n",
      "Prime: 31, 32-bit root fraction: 9159015A\n",
      "Prime: 37, 32-bit root fraction: 152FECD8\n",
      "Prime: 41, 32-bit root fraction: 67332667\n",
      "Prime: 43, 32-bit root fraction: 8EB44A87\n",
      "Prime: 47, 32-bit root fraction: DB0C2E0D\n",
      "Prime: 53, 32-bit root fraction: 47B5481D\n",
      "Prime: 59, 32-bit root fraction: AE5F9156\n",
      "Prime: 61, 32-bit root fraction: CF6C85D3\n",
      "Prime: 67, 32-bit root fraction: 2F73477D\n",
      "Prime: 71, 32-bit root fraction: 6D1826CA\n",
      "Prime: 73, 32-bit root fraction: 8B43D457\n",
      "Prime: 79, 32-bit root fraction: E360B596\n",
      "Prime: 83, 32-bit root fraction: 1C456002\n",
      "Prime: 89, 32-bit root fraction: 6F196331\n",
      "Prime: 97, 32-bit root fraction: D94EBEB1\n",
      "Prime: 101, 32-bit root fraction: 0CC4A611\n",
      "Prime: 103, 32-bit root fraction: 261DC1F2\n",
      "Prime: 107, 32-bit root fraction: 5815A7BE\n",
      "Prime: 109, 32-bit root fraction: 70B7ED67\n",
      "Prime: 113, 32-bit root fraction: A1513C69\n",
      "Prime: 127, 32-bit root fraction: 44F93635\n",
      "Prime: 131, 32-bit root fraction: 720DCDFD\n",
      "Prime: 137, 32-bit root fraction: B467369E\n",
      "Prime: 139, 32-bit root fraction: CA320B75\n",
      "Prime: 149, 32-bit root fraction: 34E0D42E\n",
      "Prime: 151, 32-bit root fraction: 49C7D9BD\n",
      "Prime: 157, 32-bit root fraction: 87ABB9F2\n",
      "Prime: 163, 32-bit root fraction: C463A2FC\n",
      "Prime: 167, 32-bit root fraction: EC3FC3F3\n",
      "Prime: 173, 32-bit root fraction: 27277F6D\n",
      "Prime: 179, 32-bit root fraction: 610BEBF2\n",
      "Prime: 181, 32-bit root fraction: 7420B49E\n",
      "Prime: 191, 32-bit root fraction: D1FD8A33\n",
      "Prime: 193, 32-bit root fraction: E4773594\n",
      "Prime: 197, 32-bit root fraction: 092197F6\n",
      "Prime: 199, 32-bit root fraction: 1B530C95\n",
      "Prime: 211, 32-bit root fraction: 869D6342\n",
      "Prime: 223, 32-bit root fraction: EEE52E4F\n",
      "Prime: 227, 32-bit root fraction: 11076689\n",
      "Prime: 229, 32-bit root fraction: 21FBA37B\n",
      "Prime: 233, 32-bit root fraction: 43AB9FB6\n",
      "Prime: 239, 32-bit root fraction: 75A9F91D\n",
      "Prime: 241, 32-bit root fraction: 86305019\n",
      "Prime: 251, 32-bit root fraction: D7CD8173\n",
      "Prime: 257, 32-bit root fraction: 07FE00FF\n",
      "Prime: 263, 32-bit root fraction: 379F513F\n",
      "Prime: 269, 32-bit root fraction: 66B651A8\n",
      "Prime: 271, 32-bit root fraction: 764AB842\n",
      "Prime: 277, 32-bit root fraction: A4B06BE1\n",
      "Prime: 281, 32-bit root fraction: C3578C15\n",
      "Prime: 283, 32-bit root fraction: D2962A53\n",
      "Prime: 293, 32-bit root fraction: 1E039F40\n",
      "Prime: 307, 32-bit root fraction: 857B7BEE\n",
      "Prime: 311, 32-bit root fraction: A29BF2DE\n",
      "Prime: 313, 32-bit root fraction: B11A32E8\n",
      "Prime: 317, 32-bit root fraction: CDF34E80\n",
      "Prime: 331, 32-bit root fraction: 31830426\n",
      "Prime: 337, 32-bit root fraction: 5B89092B\n",
      "Prime: 347, 32-bit root fraction: A0C06A13\n",
      "Prime: 349, 32-bit root fraction: AE79842F\n",
      "Prime: 353, 32-bit root fraction: C9CDA689\n",
      "Prime: 359, 32-bit root fraction: F281F239\n",
      "Prime: 367, 32-bit root fraction: 28412592\n",
      "Prime: 373, 32-bit root fraction: 502E64DB\n",
      "Prime: 379, 32-bit root fraction: 77C9C211\n",
      "Prime: 383, 32-bit root fraction: 9204CD9D\n",
      "Prime: 389, 32-bit root fraction: B91BF663\n",
      "Prime: 397, 32-bit root fraction: ECC38C9D\n",
      "Prime: 401, 32-bit root fraction: 06656095\n",
      "Prime: 409, 32-bit root fraction: 39479381\n",
      "Prime: 419, 32-bit root fraction: 78307697\n",
      "Prime: 421, 32-bit root fraction: 84AE4B7C\n",
      "Prime: 431, 32-bit root fraction: C2B2B755\n",
      "Prime: 433, 32-bit root fraction: CF03D20E\n",
      "Prime: 439, 32-bit root fraction: F3CBB117\n",
      "Prime: 443, 32-bit root fraction: 0C2D3B4B\n",
      "Prime: 449, 32-bit root fraction: 308AF161\n",
      "Prime: 457, 32-bit root fraction: 60A7A998\n",
      "Prime: 461, 32-bit root fraction: 788D9812\n",
      "Prime: 463, 32-bit root fraction: 84769B42\n",
      "Prime: 467, 32-bit root fraction: 9C34F062\n",
      "Prime: 479, 32-bit root fraction: E2D564C4\n",
      "Prime: 487, 32-bit root fraction: 116D75FD\n",
      "Prime: 491, 32-bit root fraction: 2894C107\n",
      "Prime: 499, 32-bit root fraction: 569B58C6\n",
      "Prime: 503, 32-bit root fraction: 6D7B3939\n",
      "Prime: 509, 32-bit root fraction: 8F9F8DBB\n",
      "Prime: 521, 32-bit root fraction: D34F03CD\n",
      "Prime: 523, 32-bit root fraction: DE8372EF\n",
      "Prime: 541, 32-bit root fraction: 42687A39\n"
     ]
    }
   ],
   "source": [
    "def fractional_root_32(prime):\n",
    "    \"\"\"Calculates the first 32 bits of the fractional part of the square root of a prime number.\"\"\"\n",
    "    fractional_part = math.modf(math.sqrt(prime))[0]  # Extract fractional part\n",
    "    return int(fractional_part * 0x100000000)  # Convert to 32-bit integer\n",
    "\n",
    "# Compute the first 32-bit fractions of square roots of the first 100 primes\n",
    "primes = sieve_of_eratosthenes(100)\n",
    "roots_32bit = [fractional_root_32(p) for p in primes]\n",
    "\n",
    "# Print results in hexadecimal format\n",
    "for prime, root in zip(primes, roots_32bit):\n",
    "    print(f\"Prime: {prime}, 32-bit root fraction: {root:08X}\")\n"
   ]
  },
  {
   "cell_type": "markdown",
   "metadata": {},
   "source": [
    "----"
   ]
  },
  {
   "cell_type": "markdown",
   "metadata": {},
   "source": [
    "## Task 6"
   ]
  },
  {
   "cell_type": "markdown",
   "metadata": {},
   "source": [
    "### What is SHA-256?\n",
    "SHA-256 is a cryptographic hash function that produces a 256-bit output (64 hexadecimal characters). It's commonly used in security applications and proof-of-work systems like Bitcoin. [SHA-256](https://medium.com/@wepypixel/python-sha256-secure-hashing-implementation-pypixel-7b8434a9b244)\n",
    "\n",
    "### What are Leading Zero Bits?\n",
    "Leading zero bits are the number of `0`s at the beginning of a hash, when represented in binary. For example, a hash starting with `00000010...` has 6 leading zero bits. In proof-of-work systems, finding a hash with more leading zero bits is computationally harder and more valuable.\n",
    "\n",
    "### How to Find Leading Zero Bits:\n",
    "1. Encode the word as bytes.\n",
    "2. Hash it using SHA-256.\n",
    "3. Convert the hash to binary.\n",
    "4. Count how many zeros come before the first 1.\n",
    "[Leading Zero Bits](https://stackoverflow.com/questions/134934/display-number-with-leading-zeros)"
   ]
  },
  {
   "cell_type": "markdown",
   "metadata": {},
   "source": [
    "This function ``load_words(file_path)`` reads words from a dictionary file and cleans them up:\n",
    "\n",
    "- ``with open(file_path, 'r')`` as f: Opens the file for reading safely.\n",
    "- ``line.strip().lower()``:\n",
    "    - ``strip()`` removes leading/trailing whitespace or newline characters.\n",
    "    - ``lower()`` converts the word to lowercase for consistency.\n",
    "- ``if line.strip().isalpha()``: Keeps only words made entirely of alphabetic characters. \n",
    "- ``words = [...]``: Stores all cleaned words in a list and returns it."
   ]
  },
  {
   "cell_type": "code",
   "execution_count": 1,
   "metadata": {},
   "outputs": [],
   "source": [
    "def load_words(file_path):\n",
    "    \"\"\"Load and clean words from a dictionary file.\"\"\"\n",
    "    with open(file_path, 'r') as f:\n",
    "        words = [line.strip().lower() for line in f if line.strip().isalpha()]\n",
    "    return words\n"
   ]
  },
  {
   "cell_type": "markdown",
   "metadata": {},
   "source": [
    "This function computes how many leading zero bits are at the start of the SHA-256 hash of a given word.\n",
    "\n",
    "- ``hash_bytes = hashlib.sha256(word.encode()).digest()``\n",
    "    - Encodes the word to bytes.\n",
    "    - Hashes it using SHA-256.\n",
    "    - ``digest()`` returns the raw 32-byte binary hash.\n",
    "- ``binary = ''.join(f'{byte:08b}' for byte in hash_bytes)``\n",
    "    - Converts each byte in the hash into an 8-bit binary string.\n",
    "    - Joins all 32 bytes into a single 256-character binary string.\n",
    "- ``len(binary) - len(binary.lstrip('0'))``\n",
    "    - Counts how many ``'0'`` characters are at the start of the binary string.\n",
    "    - It does this by subtracting the length of the string after removing leading zeroes from the full length"
   ]
  },
  {
   "cell_type": "code",
   "execution_count": 2,
   "metadata": {},
   "outputs": [],
   "source": [
    "def sha256_leading_zeros(word):\n",
    "    \"\"\"Hash the word and count leading zero bits in the SHA-256 binary digest.\"\"\"\n",
    "    hash_bytes = hashlib.sha256(word.encode()).digest()\n",
    "    binary = ''.join(f'{byte:08b}' for byte in hash_bytes)\n",
    "    return len(binary) - len(binary.lstrip('0'))"
   ]
  },
  {
   "cell_type": "code",
   "execution_count": 3,
   "metadata": {},
   "outputs": [],
   "source": [
    "def find_words_with_max_leading_zeros(word_list):\n",
    "    \"\"\"Find the word(s) with the most leading zero bits in their SHA-256 hashes.\"\"\"\n",
    "    max_zeros = 0\n",
    "    best_words = []\n",
    "\n",
    "    for word in word_list:\n",
    "        zeros = sha256_leading_zeros(word)\n",
    "        if zeros > max_zeros:\n",
    "            max_zeros = zeros\n",
    "            best_words = [word]\n",
    "        elif zeros == max_zeros:\n",
    "            best_words.append(word)\n",
    "    \n",
    "    return best_words, max_zeros"
   ]
  },
  {
   "cell_type": "markdown",
   "metadata": {},
   "source": [
    "## Task 7"
   ]
  },
  {
   "cell_type": "markdown",
   "metadata": {},
   "source": [
    "## Task 8"
   ]
  }
 ],
 "metadata": {
  "kernelspec": {
   "display_name": "Python 3",
   "language": "python",
   "name": "python3"
  },
  "language_info": {
   "codemirror_mode": {
    "name": "ipython",
    "version": 3
   },
   "file_extension": ".py",
   "mimetype": "text/x-python",
   "name": "python",
   "nbconvert_exporter": "python",
   "pygments_lexer": "ipython3",
   "version": "3.12.1"
  }
 },
 "nbformat": 4,
 "nbformat_minor": 2
}

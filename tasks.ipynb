{
 "cells": [
  {
   "cell_type": "markdown",
   "metadata": {},
   "source": [
    "# Tasks"
   ]
  },
  {
   "cell_type": "markdown",
   "metadata": {},
   "source": [
    "## Task 1: Binary Representations"
   ]
  },
  {
   "cell_type": "code",
   "execution_count": 1,
   "metadata": {},
   "outputs": [],
   "source": [
    "import struct\n",
    "\n",
    "# Math.\n",
    "import math\n",
    "\n",
    "# NumPy.\n",
    "import numpy as np\n",
    "\n",
    "import os"
   ]
  },
  {
   "cell_type": "code",
   "execution_count": 2,
   "metadata": {},
   "outputs": [],
   "source": [
    "def rotl(x, n=1):\n",
    "    \"\"\"Rotate bits in a 32-bit unsigned integer to the left n places.\"\"\"\n",
    "    return ((x << n) | (x >> (32 - n))) & 0xFFFFFFFF"
   ]
  },
  {
   "cell_type": "code",
   "execution_count": 3,
   "metadata": {},
   "outputs": [],
   "source": [
    "def rotr(x, n=1):\n",
    "    \"\"\"Rotate bits in a 32-bit unsigned integer to the right n places.\"\"\"\n",
    "    return ((x >> n) | (x << (32 - n))) & 0xFFFFFFFF"
   ]
  },
  {
   "cell_type": "code",
   "execution_count": 4,
   "metadata": {},
   "outputs": [],
   "source": [
    "def ch(x, y, z):\n",
    "    \"\"\"Choose bits from y where x has bits set to 1, and from z where x has bits set to 0.\"\"\"\n",
    "    return (x & y) ^ (~x & z)"
   ]
  },
  {
   "cell_type": "code",
   "execution_count": 5,
   "metadata": {},
   "outputs": [],
   "source": [
    "def maj(x, y, z):\n",
    "    \"\"\"Majority vote of the bits in x, y, and z.\"\"\"\n",
    "    return (x & y) ^ (x & z) ^ (y & z)"
   ]
  },
  {
   "cell_type": "code",
   "execution_count": 6,
   "metadata": {},
   "outputs": [
    {
     "name": "stdout",
     "output_type": "stream",
     "text": [
      "rotl(13, 1): 0b11010\n",
      "rotr(13, 1): 0b10000000000000000000000000000110\n",
      "ch(13, 11, 6): 0b1011\n",
      "maj(13, 11, 6): 0b1111\n"
     ]
    }
   ],
   "source": [
    "# Some Example Test Cases\n",
    "def test_functions():\n",
    "    x = 0b1101  # 13 in decimal\n",
    "    y = 0b1011  # 11 in decimal\n",
    "    z = 0b0110  # 6 in decimal\n",
    "    \n",
    "    print(\"rotl(13, 1):\", bin(rotl(x, 1)))\n",
    "    print(\"rotr(13, 1):\", bin(rotr(x, 1)))\n",
    "    print(\"ch(13, 11, 6):\", bin(ch(x, y, z)))\n",
    "    print(\"maj(13, 11, 6):\", bin(maj(x, y, z)))\n",
    "\n",
    "# Run the tests\n",
    "if __name__ == \"__main__\":\n",
    "    test_functions()"
   ]
  },
  {
   "cell_type": "markdown",
   "metadata": {},
   "source": [
    "## Task 2"
   ]
  },
  {
   "cell_type": "code",
   "execution_count": 7,
   "metadata": {},
   "outputs": [],
   "source": [
    "def hash_function(s):\n",
    "    \"\"\"Hash function from The C Programming Language by Kernighan and Ritchie.\"\"\"\n",
    "    hashval = 0\n",
    "    for char in s:\n",
    "        hashval = ord(char) + 31 * hashval\n",
    "    return hashval % 101\n"
   ]
  },
  {
   "cell_type": "code",
   "execution_count": 8,
   "metadata": {},
   "outputs": [
    {
     "name": "stdout",
     "output_type": "stream",
     "text": [
      "hash_function('hello'): 17\n",
      "hash_function('world'): 34\n",
      "hash_function('hash'): 15\n",
      "hash_function('function'): 100\n",
      "hash_function('test'): 86\n"
     ]
    }
   ],
   "source": [
    "    # Test the hash function\n",
    "test_strings = [\"hello\", \"world\", \"hash\", \"function\", \"test\"]\n",
    "for s in test_strings:\n",
    "        print(f\"hash_function('{s}'): {hash_function(s)}\")"
   ]
  },
  {
   "cell_type": "markdown",
   "metadata": {},
   "source": [
    "## Task 3"
   ]
  },
  {
   "cell_type": "code",
   "execution_count": null,
   "metadata": {},
   "outputs": [],
   "source": [
    "def sha256_padding(file_path):\n",
    "    \"\"\"Calculate the SHA256 padding for the given file and print it in hex.\"\"\"\n",
    "    with open(file_path, 'rb') as f:\n",
    "        data = f.read()\n",
    "    \n",
    "    length = len(data) * 8  # Length in bits\n",
    "    padding = b'\\x80'  # Starts with a single '1' bit\n",
    "    \n",
    "    # Now calculate the required padding length\n",
    "    while (len(data) + len(padding) + 8) % 64 != 0:\n",
    "        padding += b'\\x00'\n",
    "\n",
    "    # Append the original length as 64-bit big-endian\n",
    "    padding += length.to_bytes(8, 'big')\n",
    "    \n",
    "    # Print the padding in hex format\n",
    "    print(\" \".join(f\"{byte:02x}\" for byte in padding))"
   ]
  },
  {
   "cell_type": "code",
   "execution_count": 11,
   "metadata": {},
   "outputs": [
    {
     "name": "stdout",
     "output_type": "stream",
     "text": [
      "80 00 00 00 00 00 00 00 00 00 00 00 00 00 00 00 00 00 00 00 00 00 00 00 00 00 00 00 00 00 00 00 00 00 00 00 00 d0\n"
     ]
    }
   ],
   "source": [
    "sha256_padding(\"SHA256_padding_test.txt\")"
   ]
  },
  {
   "cell_type": "markdown",
   "metadata": {},
   "source": [
    "## Task 4"
   ]
  },
  {
   "cell_type": "code",
   "execution_count": null,
   "metadata": {},
   "outputs": [],
   "source": [
    "def sieve_of_eratosthenes(limit):\n",
    "    \"\"\"Finds the first `limit` prime numbers using the Sieve of Eratosthenes algorithm.\"\"\"\n",
    "    primes = []\n",
    "    sieve = [True] * (limit * 10)\n",
    "    sieve[0] = sieve[1] = False  # 0 and 1 are not prime"
   ]
  },
  {
   "cell_type": "markdown",
   "metadata": {},
   "source": [
    "## Task 5"
   ]
  },
  {
   "cell_type": "markdown",
   "metadata": {},
   "source": [
    "## Task 6"
   ]
  },
  {
   "cell_type": "markdown",
   "metadata": {},
   "source": [
    "## Task 7"
   ]
  },
  {
   "cell_type": "markdown",
   "metadata": {},
   "source": [
    "## Task 8"
   ]
  }
 ],
 "metadata": {
  "kernelspec": {
   "display_name": "Python 3",
   "language": "python",
   "name": "python3"
  },
  "language_info": {
   "codemirror_mode": {
    "name": "ipython",
    "version": 3
   },
   "file_extension": ".py",
   "mimetype": "text/x-python",
   "name": "python",
   "nbconvert_exporter": "python",
   "pygments_lexer": "ipython3",
   "version": "3.12.1"
  }
 },
 "nbformat": 4,
 "nbformat_minor": 2
}

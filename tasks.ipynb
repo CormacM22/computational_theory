{
 "cells": [
  {
   "cell_type": "markdown",
   "metadata": {},
   "source": [
    "# Tasks"
   ]
  },
  {
   "cell_type": "markdown",
   "metadata": {},
   "source": [
    "## Task 1: Binary Representations"
   ]
  },
  {
   "cell_type": "code",
   "execution_count": 12,
   "metadata": {},
   "outputs": [],
   "source": [
    "import struct\n",
    "\n",
    "# Math.\n",
    "import math\n",
    "\n",
    "# NumPy.\n",
    "import numpy as np\n",
    "\n",
    "import os"
   ]
  },
  {
   "cell_type": "code",
   "execution_count": 2,
   "metadata": {},
   "outputs": [],
   "source": [
    "def rotl(x, n=1):\n",
    "    \"\"\"Rotate bits in a 32-bit unsigned integer to the left n places.\"\"\"\n",
    "    return ((x << n) | (x >> (32 - n))) & 0xFFFFFFFF"
   ]
  },
  {
   "cell_type": "code",
   "execution_count": 3,
   "metadata": {},
   "outputs": [],
   "source": [
    "def rotr(x, n=1):\n",
    "    \"\"\"Rotate bits in a 32-bit unsigned integer to the right n places.\"\"\"\n",
    "    return ((x >> n) | (x << (32 - n))) & 0xFFFFFFFF"
   ]
  },
  {
   "cell_type": "code",
   "execution_count": 4,
   "metadata": {},
   "outputs": [],
   "source": [
    "def ch(x, y, z):\n",
    "    \"\"\"Choose bits from y where x has bits set to 1, and from z where x has bits set to 0.\"\"\"\n",
    "    return (x & y) ^ (~x & z)"
   ]
  },
  {
   "cell_type": "code",
   "execution_count": 6,
   "metadata": {},
   "outputs": [],
   "source": [
    "def maj(x, y, z):\n",
    "    \"\"\"Majority vote of the bits in x, y, and z.\"\"\"\n",
    "    return (x & y) ^ (x & z) ^ (y & z)"
   ]
  },
  {
   "cell_type": "code",
   "execution_count": 8,
   "metadata": {},
   "outputs": [
    {
     "name": "stdout",
     "output_type": "stream",
     "text": [
      "rotl(13, 1): 0b11010\n",
      "rotr(13, 1): 0b10000000000000000000000000000110\n",
      "ch(13, 11, 6): 0b1011\n",
      "maj(13, 11, 6): 0b1111\n"
     ]
    }
   ],
   "source": [
    "# Some Example Test Cases\n",
    "def test_functions():\n",
    "    x = 0b1101  # 13 in decimal\n",
    "    y = 0b1011  # 11 in decimal\n",
    "    z = 0b0110  # 6 in decimal\n",
    "    \n",
    "    print(\"rotl(13, 1):\", bin(rotl(x, 1)))\n",
    "    print(\"rotr(13, 1):\", bin(rotr(x, 1)))\n",
    "    print(\"ch(13, 11, 6):\", bin(ch(x, y, z)))\n",
    "    print(\"maj(13, 11, 6):\", bin(maj(x, y, z)))\n",
    "\n",
    "# Run the tests\n",
    "if __name__ == \"__main__\":\n",
    "    test_functions()"
   ]
  },
  {
   "cell_type": "markdown",
   "metadata": {},
   "source": [
    "## Task 2"
   ]
  },
  {
   "cell_type": "code",
   "execution_count": 9,
   "metadata": {},
   "outputs": [],
   "source": [
    "def hash_function(s):\n",
    "    \"\"\"Hash function from The C Programming Language by Kernighan and Ritchie.\"\"\"\n",
    "    hashval = 0\n",
    "    for char in s:\n",
    "        hashval = ord(char) + 31 * hashval\n",
    "    return hashval % 101\n"
   ]
  },
  {
   "cell_type": "code",
   "execution_count": 10,
   "metadata": {},
   "outputs": [
    {
     "name": "stdout",
     "output_type": "stream",
     "text": [
      "hash_function('hello'): 17\n",
      "hash_function('world'): 34\n",
      "hash_function('hash'): 15\n",
      "hash_function('function'): 100\n",
      "hash_function('test'): 86\n"
     ]
    }
   ],
   "source": [
    "    # Test the hash function\n",
    "    test_strings = [\"hello\", \"world\", \"hash\", \"function\", \"test\"]\n",
    "    for s in test_strings:\n",
    "        print(f\"hash_function('{s}'): {hash_function(s)}\")"
   ]
  },
  {
   "cell_type": "markdown",
   "metadata": {},
   "source": [
    "## Task 3"
   ]
  },
  {
   "cell_type": "code",
   "execution_count": 13,
   "metadata": {},
   "outputs": [],
   "source": [
    "def sha256_padding(file_path):\n",
    "    \"\"\"Calculate SHA256 padding for the given file and then print it in hex.\"\"\"\n",
    "    with open(file_path, 'rb') as f:\n",
    "        data = f.read()"
   ]
  },
  {
   "cell_type": "markdown",
   "metadata": {},
   "source": [
    "## Task 4"
   ]
  },
  {
   "cell_type": "markdown",
   "metadata": {},
   "source": [
    "## Task 5"
   ]
  },
  {
   "cell_type": "markdown",
   "metadata": {},
   "source": [
    "## Task 6"
   ]
  },
  {
   "cell_type": "markdown",
   "metadata": {},
   "source": [
    "## Task 7"
   ]
  },
  {
   "cell_type": "markdown",
   "metadata": {},
   "source": [
    "## Task 8"
   ]
  }
 ],
 "metadata": {
  "kernelspec": {
   "display_name": "Python 3",
   "language": "python",
   "name": "python3"
  },
  "language_info": {
   "codemirror_mode": {
    "name": "ipython",
    "version": 3
   },
   "file_extension": ".py",
   "mimetype": "text/x-python",
   "name": "python",
   "nbconvert_exporter": "python",
   "pygments_lexer": "ipython3",
   "version": "3.12.1"
  }
 },
 "nbformat": 4,
 "nbformat_minor": 2
}

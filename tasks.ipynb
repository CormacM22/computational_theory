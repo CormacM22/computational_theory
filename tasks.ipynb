{
 "cells": [
  {
   "cell_type": "markdown",
   "metadata": {},
   "source": [
    "# Tasks"
   ]
  },
  {
   "cell_type": "markdown",
   "metadata": {},
   "source": [
    "***"
   ]
  },
  {
   "cell_type": "markdown",
   "metadata": {},
   "source": [
    "## Research on Task 1 (Binary Representations)"
   ]
  },
  {
   "cell_type": "markdown",
   "metadata": {},
   "source": [
    "**Binary representation** uses the two digits 0 and 1 to represent data, text, or numbers. Computers employ this architecture because binary logic is how they function. Each digit in binary is referred to as a **bit**, and a byte is made up of eight bits. Binary numbers represent values in base-2, as opposed to base-10 in decimal.\n"
   ]
  },
  {
   "cell_type": "markdown",
   "metadata": {},
   "source": [
    "### Bit Shifts\n",
    "\n",
    "Bit shifting is a fundamental operation in computing that moves the bits of a binary number left or right, often used for fast arithmetic operations. \n",
    "\n",
    "A **left shift** (<<) moves bits to the left, filling the emptied positions with zeros. This effectively multiplies the number by powers of two (e.g., x << n is equivalent to x * 2^n). \n",
    "\n",
    "A **right shift** (>>) moves bits to the right and comes in two types: logical right shift, which fills the leftmost bits with zeros (used for unsigned numbers), and arithmetic right shift, which preserves the sign bit for signed numbers (keeping negative values negative). Right shifts effectively divide numbers by powers of two (e.g., x >> n is equivalent to x / 2^n).\n",
    "\n",
    "### Circular Shifts\n",
    "\n",
    "A **circular shift** (also called a **bitwise rotation**) moves bits left or right, wrapping the overflowed bits around to the other end. Unlike regular shifts, which discard bits, circular shifts preserve all bits, making them useful in cryptography and low-level optimizations.\n",
    "\n",
    "- **Left Rotate (`ROTL`)**: Moves bits left, placing overflowed bits on the right.  \n",
    "- **Right Rotate (`ROTR`)**: Moves bits right, placing overflowed bits on the left.\n",
    "\n",
    "\n",
    " [Bit Shift Operations](https://www.geeksforgeeks.org/left-shift-right-shift-operators-c-cpp/)"
   ]
  },
  {
   "cell_type": "markdown",
   "metadata": {},
   "source": [
    "## Task 1: Binary Representations"
   ]
  },
  {
   "cell_type": "code",
   "execution_count": 1,
   "metadata": {},
   "outputs": [],
   "source": [
    "import struct\n",
    "\n",
    "# Math.\n",
    "import math\n",
    "\n",
    "# NumPy.\n",
    "import numpy as np\n",
    "\n",
    "import os"
   ]
  },
  {
   "cell_type": "code",
   "execution_count": 2,
   "metadata": {},
   "outputs": [],
   "source": [
    "def rotl(x, n=1):\n",
    "    \"\"\"Rotate bits in a 32-bit unsigned integer to the left n places.\"\"\"\n",
    "    return ((x << n) | (x >> (32 - n))) & 0xFFFFFFFF"
   ]
  },
  {
   "cell_type": "markdown",
   "metadata": {},
   "source": [
    "This function rotates the bits of a 32-bit unsigned integer x to the left by n positions. It does this by shifting x left by n bits and shifting the overflowed bits from the left back to the right, ensuring the result stays within 32 bits using & 0xFFFFFFFF."
   ]
  },
  {
   "cell_type": "code",
   "execution_count": 3,
   "metadata": {},
   "outputs": [],
   "source": [
    "def rotr(x, n=1):\n",
    "    \"\"\"Rotate bits in a 32-bit unsigned integer to the right n places.\"\"\"\n",
    "    return ((x >> n) | (x << (32 - n))) & 0xFFFFFFFF"
   ]
  },
  {
   "cell_type": "markdown",
   "metadata": {},
   "source": [
    "This function rotates the bits of a 32-bit unsigned integer x to the right by n positions. It does this by shifting x right by n bits and moving the bits that fall off back to the left, ensuring the result stays within 32 bits using & 0xFFFFFFFF."
   ]
  },
  {
   "cell_type": "code",
   "execution_count": 4,
   "metadata": {},
   "outputs": [],
   "source": [
    "def ch(x, y, z):\n",
    "    \"\"\"Choose bits from y where x has bits set to 1, and from z where x has bits set to 0.\"\"\"\n",
    "    return (x & y) ^ (~x & z)"
   ]
  },
  {
   "cell_type": "markdown",
   "metadata": {},
   "source": [
    "This function selects bits from y where x has 1s and from z where x has 0s. It works by using bitwise AND (&) to mask y with x, bitwise NOT (~) to invert x and mask z, and XOR (^) to combine the results."
   ]
  },
  {
   "cell_type": "code",
   "execution_count": 5,
   "metadata": {},
   "outputs": [],
   "source": [
    "def maj(x, y, z):\n",
    "    \"\"\"Majority vote of the bits in x, y, and z.\"\"\"\n",
    "    return (x & y) ^ (x & z) ^ (y & z)"
   ]
  },
  {
   "cell_type": "markdown",
   "metadata": {},
   "source": [
    "This function computes the majority vote for each bit position among x, y, and z, meaning a bit is set if at least two of the three inputs have it set. It achieves this by using bitwise AND (&) to find common bits in pairs and then combining them with XOR (^)."
   ]
  },
  {
   "cell_type": "code",
   "execution_count": 6,
   "metadata": {},
   "outputs": [
    {
     "name": "stdout",
     "output_type": "stream",
     "text": [
      "rotl(13, 1): 0b11010\n",
      "rotr(13, 1): 0b10000000000000000000000000000110\n",
      "ch(13, 11, 6): 0b1011\n",
      "maj(13, 11, 6): 0b1111\n"
     ]
    }
   ],
   "source": [
    "# Some Example Test Cases\n",
    "def test_functions():\n",
    "    x = 0b1101  # 13 in decimal\n",
    "    y = 0b1011  # 11 in decimal\n",
    "    z = 0b0110  # 6 in decimal\n",
    "    \n",
    "    print(\"rotl(13, 1):\", bin(rotl(x, 1)))\n",
    "    print(\"rotr(13, 1):\", bin(rotr(x, 1)))\n",
    "    print(\"ch(13, 11, 6):\", bin(ch(x, y, z)))\n",
    "    print(\"maj(13, 11, 6):\", bin(maj(x, y, z)))\n",
    "\n",
    "# Run the tests\n",
    "if __name__ == \"__main__\":\n",
    "    test_functions()"
   ]
  },
  {
   "cell_type": "markdown",
   "metadata": {},
   "source": [
    "***"
   ]
  },
  {
   "cell_type": "markdown",
   "metadata": {},
   "source": [
    "## Research Task 2 (Hash Functions)\n",
    "\n",
    "A **hash function** is an algorithm that takes an input (e.g., a string) and converts it into a fixed-size numerical value, known as a **hash**. This is useful for efficiently storing and retrieving data in structures like hash tables.\n",
    "[Hash Function](https://www.geeksforgeeks.org/hash-functions-and-list-types-of-hash-functions/)"
   ]
  },
  {
   "cell_type": "markdown",
   "metadata": {},
   "source": [
    "The Original C Code:\n",
    "\n",
    "```c\n",
    "unsigned hash(char *s) {\n",
    "    unsigned hashval;\n",
    "    for (hashval = 0; *s != '\\0'; s++)\n",
    "        hashval = *s + 31 * hashval;\n",
    "    return hashval % 101;\n",
    "}\n"
   ]
  },
  {
   "cell_type": "markdown",
   "metadata": {},
   "source": [
    "## Task 2: Hash Functions"
   ]
  },
  {
   "cell_type": "markdown",
   "metadata": {},
   "source": [
    "Code coverted to Python:"
   ]
  },
  {
   "cell_type": "code",
   "execution_count": 7,
   "metadata": {},
   "outputs": [],
   "source": [
    "def hash_function(s):\n",
    "    \"\"\"Hash function from The C Programming Language by Kernighan and Ritchie.\"\"\"\n",
    "    hashval = 0\n",
    "    for char in s:\n",
    "        hashval = ord(char) + 31 * hashval\n",
    "    return hashval % 101\n"
   ]
  },
  {
   "cell_type": "code",
   "execution_count": 8,
   "metadata": {},
   "outputs": [
    {
     "name": "stdout",
     "output_type": "stream",
     "text": [
      "hash_function('hello'): 17\n",
      "hash_function('world'): 34\n",
      "hash_function('hash'): 15\n",
      "hash_function('function'): 100\n",
      "hash_function('test'): 86\n"
     ]
    }
   ],
   "source": [
    "    # Test the hash function\n",
    "test_strings = [\"hello\", \"world\", \"hash\", \"function\", \"test\"]\n",
    "for s in test_strings:\n",
    "        print(f\"hash_function('{s}'): {hash_function(s)}\")"
   ]
  },
  {
   "cell_type": "markdown",
   "metadata": {},
   "source": [
    "### Why use 31 and 101?\n",
    "\n",
    "- **31 as a Multiplier:**\n",
    "    - 31 is a prime number, which helps **reduce collisions** (i.e., different strings producing the same hash).\n",
    "    - It ensures a good distribution of hash values.\n",
    "    - It's also efficient for computation because 31 * x can be optimized as (x << 5) - x (bit shifting).\n",
    " - **101 as a Modulus:**\n",
    "    - 101 is a prime number, ensuring **even distribution** of hash values.\n",
    "    - Using a prime modulus helps minimize patterns in hash outputs, improving performance in hash tables."
   ]
  },
  {
   "cell_type": "markdown",
   "metadata": {},
   "source": [
    "***"
   ]
  },
  {
   "cell_type": "markdown",
   "metadata": {},
   "source": [
    "## Research on Task 3 (SHA256 Padding)"
   ]
  },
  {
   "cell_type": "markdown",
   "metadata": {},
   "source": [
    "**SHA-256** performs best when the message is **512 bits** in size, however let's say you have a message of varying lengths. Therefore, you add a few more bits to make your message the proper length if it is too short. Imagine it as filling a whole page with additional spaces at the end of sentences.\n",
    "\n",
    "**SHA-256** begins with a series of numbers known as **\"initialisation vectors,\"** which are similar to secret codes. These numbers serve as the process's **beginning point**.\n",
    "\n",
    "Your padded message is now separated into **512-bit pieces**.  Similar to going through a book page by page, SHA-256 operates on these blocks one at a time.  The data in each block is mixed up and altered using unique mathematical and logical procedures.\n",
    "\n",
    "Every 512-bit block contains a unique step known as the **\"compression function.\"**  It functions similarly to a machine that further muddles the block.  \n",
    "\n",
    "Following the processing and mixing of each block, SHA-256 combines them to create a final 256-bit value that we refer to as the **\"hash value.\"**  This value serves as your original message's distinct fingerprint.  It is the result of running your message through the SHA-256 algorithm. \n",
    "\n",
    "[SHA256 Padding](https://medium.com/@bajrang1081siyag/how-sha-256-works-4951088ab9f8#:~:text=Imagine%20you%20have%20a%20message,to%20fill%20a%20whole%20page.)\n"
   ]
  },
  {
   "cell_type": "markdown",
   "metadata": {},
   "source": [
    "SHA-256 processes messages in **512-bit (64-byte) blocks**. If a message is not a multiple of 512 bits, padding is added to align it correctly. The padding follows these rules:  \n",
    "\n",
    "1. **Append a single `1` bit** (`0x80` in hex).  \n",
    "2. **Append enough `0` bits** to make the total length (including padding) **448 bits** (since the last 64 bits are reserved for length storage).  \n",
    "3. **Append the original message length** (in bits) as a **64-bit big-endian integer**.  "
   ]
  },
  {
   "cell_type": "markdown",
   "metadata": {},
   "source": [
    "## Task 3: SHA256"
   ]
  },
  {
   "cell_type": "code",
   "execution_count": null,
   "metadata": {},
   "outputs": [],
   "source": [
    "def sha256_padding(file_path):\n",
    "    \"\"\"Calculate the SHA256 padding for the given file and print it in hex.\"\"\"\n",
    "    with open(file_path, 'rb') as f:\n",
    "        data = f.read()\n",
    "    \n",
    "    length = len(data) * 8  # Length in bits\n",
    "    padding = b'\\x80'  # Starts with a single '1' bit\n",
    "    \n",
    "    # Now calculate the required padding length\n",
    "    while (len(data) + len(padding) + 8) % 64 != 0:\n",
    "        padding += b'\\x00'\n",
    "\n",
    "    # Append the original length as 64-bit big-endian\n",
    "    padding += length.to_bytes(8, 'big')\n",
    "    \n",
    "    # Print the padding in hex format\n",
    "    print(\" \".join(f\"{byte:02x}\" for byte in padding))"
   ]
  },
  {
   "cell_type": "code",
   "execution_count": 11,
   "metadata": {},
   "outputs": [
    {
     "name": "stdout",
     "output_type": "stream",
     "text": [
      "80 00 00 00 00 00 00 00 00 00 00 00 00 00 00 00 00 00 00 00 00 00 00 00 00 00 00 00 00 00 00 00 00 00 00 00 00 d0\n"
     ]
    }
   ],
   "source": [
    "sha256_padding(\"SHA256_padding_test.txt\")"
   ]
  },
  {
   "cell_type": "markdown",
   "metadata": {},
   "source": [
    "## Task 4"
   ]
  },
  {
   "cell_type": "markdown",
   "metadata": {},
   "source": [
    "### Prime Numbers\n",
    "\n",
    "Numbers with only two components—1 and the number itself—are known as **prime numbers**. Take number 5, for instance, which merely consists of the elements 1 and 5. It is therefore a prime number. Let's look at another instance where the number 6 has **more than two components**, such as 1, 2, 3, and 6. Six is therefore **not** a prime number. We now know that the number 1 has only one element if we use it as an example. Since a prime number must have **precisely two elements**, it cannot be a prime number. This indicates that 1 is a unique number rather than a prime or composite number.\n",
    "\n",
    "[Prime Numbers](https://www.cuemath.com/numbers/prime-numbers/)"
   ]
  },
  {
   "cell_type": "markdown",
   "metadata": {},
   "source": [
    "When n is less than about 10 million, the **Sieve of Eratosthenes** is one of the most effective methods for locating all primes smaller than n. \n",
    "\n",
    "[Sieve of Eratosthenes](https://www.geeksforgeeks.org/sieve-of-eratosthenes/)\n",
    "\n",
    "The Sieve of Eratosthenes algorithm can be used to locate all prime numbers up to 100.\n",
    "\n",
    "Here are the steps:\n",
    "\n",
    "1. **Initialize the Sieve:**\n",
    "    - Make a list of boolean values named ``sieve`` and set its starting value to ``True``. To make sure there are enough numbers to locate the first limit primes, the list's size is ``limit * 10``.\n",
    "    - Set ``sieve[0]`` and ``sieve[1]`` to ``False`` because 0 and 1 are not prime numbers.\n",
    "\n",
    "2. **Iterate Through the Sieve:**\n",
    "    - Loop through the ``sieve`` starting from ``num = 2`` (the smallest prime number).\n",
    "\n",
    "3. **Check if the Number is Prime:**\n",
    "    - If ``sieve[num]`` is ``True``, it means num is a prime number.\n",
    "    - Append ``num`` to the primes list.\n",
    "\n",
    "4. **Stop if the Desired Number of Primes is Found:**\n",
    "    - If the length of the ``primes`` list reaches ``limit``, return the list of primes.\n",
    "\n",
    "5. **Mark Multiples of the Prime as Non-Prime:**\n",
    "    - For each prime number ``num``, mark all its multiples as ``False`` in the sieve (starting from ``num * num`` to avoid redundant work).\n",
    "\n",
    "6. **Return the List of Primes:**\n",
    "    - Once the loop finishes, the function returns the list of the first limit prime numbers.\n",
    "\n",
    "\n",
    "[Steps For Sieve of Eratosthenes](https://www.topcoder.com/thrive/articles/sieve-of-eratosthenes-algorithm)"
   ]
  },
  {
   "cell_type": "code",
   "execution_count": 2,
   "metadata": {},
   "outputs": [],
   "source": [
    "def sieve_of_eratosthenes(limit):\n",
    "    \"\"\"Finds the first `limit` prime numbers using the Sieve of Eratosthenes algorithm.\"\"\"\n",
    "    primes = []\n",
    "    sieve = [True] * (limit * 10)\n",
    "    sieve[0] = sieve[1] = False  # 0 and 1 are not prime\n",
    "\n",
    "    for num in range(2, len(sieve)):\n",
    "        if sieve[num]:\n",
    "            primes.append(num)\n",
    "            if len(primes) == limit:\n",
    "                return primes\n",
    "            for multiple in range(num * num, len(sieve), num):\n",
    "                sieve[multiple] = False"
   ]
  },
  {
   "cell_type": "code",
   "execution_count": 3,
   "metadata": {},
   "outputs": [],
   "source": [
    "def trial_division(limit):\n",
    "    \"\"\"Finds the first `limit` prime numbers using trial division.\"\"\"\n",
    "    primes = []\n",
    "    num = 2\n",
    "    while len(primes) < limit:\n",
    "        is_prime = all(num % prime != 0 for prime in primes)\n",
    "        if is_prime:\n",
    "            primes.append(num)\n",
    "        num += 1\n",
    "    return primes"
   ]
  },
  {
   "cell_type": "code",
   "execution_count": 4,
   "metadata": {},
   "outputs": [
    {
     "name": "stdout",
     "output_type": "stream",
     "text": [
      "First 100 primes using Sieve of Eratosthenes:\n",
      "[2, 3, 5, 7, 11, 13, 17, 19, 23, 29, 31, 37, 41, 43, 47, 53, 59, 61, 67, 71, 73, 79, 83, 89, 97, 101, 103, 107, 109, 113, 127, 131, 137, 139, 149, 151, 157, 163, 167, 173, 179, 181, 191, 193, 197, 199, 211, 223, 227, 229, 233, 239, 241, 251, 257, 263, 269, 271, 277, 281, 283, 293, 307, 311, 313, 317, 331, 337, 347, 349, 353, 359, 367, 373, 379, 383, 389, 397, 401, 409, 419, 421, 431, 433, 439, 443, 449, 457, 461, 463, 467, 479, 487, 491, 499, 503, 509, 521, 523, 541]\n",
      "First 100 primes using Trial Division:\n",
      "[2, 3, 5, 7, 11, 13, 17, 19, 23, 29, 31, 37, 41, 43, 47, 53, 59, 61, 67, 71, 73, 79, 83, 89, 97, 101, 103, 107, 109, 113, 127, 131, 137, 139, 149, 151, 157, 163, 167, 173, 179, 181, 191, 193, 197, 199, 211, 223, 227, 229, 233, 239, 241, 251, 257, 263, 269, 271, 277, 281, 283, 293, 307, 311, 313, 317, 331, 337, 347, 349, 353, 359, 367, 373, 379, 383, 389, 397, 401, 409, 419, 421, 431, 433, 439, 443, 449, 457, 461, 463, 467, 479, 487, 491, 499, 503, 509, 521, 523, 541]\n"
     ]
    }
   ],
   "source": [
    "# Test prime number generation\n",
    "print(\"First 100 primes using Sieve of Eratosthenes:\")\n",
    "print(sieve_of_eratosthenes(100))\n",
    "    \n",
    "print(\"First 100 primes using Trial Division:\")\n",
    "print(trial_division(100))"
   ]
  },
  {
   "cell_type": "code",
   "execution_count": null,
   "metadata": {},
   "outputs": [],
   "source": []
  },
  {
   "cell_type": "markdown",
   "metadata": {},
   "source": [
    "## Task 5"
   ]
  },
  {
   "cell_type": "markdown",
   "metadata": {},
   "source": [
    "## Task 6"
   ]
  },
  {
   "cell_type": "markdown",
   "metadata": {},
   "source": [
    "## Task 7"
   ]
  },
  {
   "cell_type": "markdown",
   "metadata": {},
   "source": [
    "## Task 8"
   ]
  }
 ],
 "metadata": {
  "kernelspec": {
   "display_name": "Python 3",
   "language": "python",
   "name": "python3"
  },
  "language_info": {
   "codemirror_mode": {
    "name": "ipython",
    "version": 3
   },
   "file_extension": ".py",
   "mimetype": "text/x-python",
   "name": "python",
   "nbconvert_exporter": "python",
   "pygments_lexer": "ipython3",
   "version": "3.12.1"
  }
 },
 "nbformat": 4,
 "nbformat_minor": 2
}

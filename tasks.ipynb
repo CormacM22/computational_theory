{
 "cells": [
  {
   "cell_type": "markdown",
   "metadata": {},
   "source": [
    "# Tasks"
   ]
  },
  {
   "cell_type": "markdown",
   "metadata": {},
   "source": [
    "## Research on Task 1 (Binary Representations)"
   ]
  },
  {
   "cell_type": "markdown",
   "metadata": {},
   "source": [
    "**Binary representation** uses the two digits 0 and 1 to represent data, text, or numbers. Computers employ this architecture because binary logic is how they function. Each digit in binary is referred to as a **bit**, and a byte is made up of eight bits. Binary numbers represent values in base-2, as opposed to base-10 in decimal.\n"
   ]
  },
  {
   "cell_type": "markdown",
   "metadata": {},
   "source": [
    "### Bit Shifts\n",
    "\n",
    "Bit shifting is a fundamental operation in computing that moves the bits of a binary number left or right, often used for fast arithmetic operations. \n",
    "\n",
    "A **left shift** (<<) moves bits to the left, filling the emptied positions with zeros. This effectively multiplies the number by powers of two (e.g., x << n is equivalent to x * 2^n). \n",
    "\n",
    "A **right shift** (>>) moves bits to the right and comes in two types: logical right shift, which fills the leftmost bits with zeros (used for unsigned numbers), and arithmetic right shift, which preserves the sign bit for signed numbers (keeping negative values negative). Right shifts effectively divide numbers by powers of two (e.g., x >> n is equivalent to x / 2^n).\n",
    "\n",
    "### Circular Shifts\n",
    "\n",
    "A **circular shift** (also called a **bitwise rotation**) moves bits left or right, wrapping the overflowed bits around to the other end. Unlike regular shifts, which discard bits, circular shifts preserve all bits, making them useful in cryptography and low-level optimizations.\n",
    "\n",
    "- **Left Rotate (`ROTL`)**: Moves bits left, placing overflowed bits on the right.  \n",
    "- **Right Rotate (`ROTR`)**: Moves bits right, placing overflowed bits on the left.\n",
    "\n",
    "\n",
    " [Bit Shift Operations](https://www.geeksforgeeks.org/left-shift-right-shift-operators-c-cpp/)"
   ]
  },
  {
   "cell_type": "markdown",
   "metadata": {},
   "source": [
    "## Task 1: Binary Representations"
   ]
  },
  {
   "cell_type": "code",
   "execution_count": 1,
   "metadata": {},
   "outputs": [],
   "source": [
    "import struct\n",
    "\n",
    "# Math.\n",
    "import math\n",
    "\n",
    "# NumPy.\n",
    "import numpy as np\n",
    "\n",
    "import os"
   ]
  },
  {
   "cell_type": "code",
   "execution_count": 2,
   "metadata": {},
   "outputs": [],
   "source": [
    "def rotl(x, n=1):\n",
    "    \"\"\"Rotate bits in a 32-bit unsigned integer to the left n places.\"\"\"\n",
    "    return ((x << n) | (x >> (32 - n))) & 0xFFFFFFFF"
   ]
  },
  {
   "cell_type": "markdown",
   "metadata": {},
   "source": [
    "This function rotates the bits of a 32-bit unsigned integer x to the left by n positions. It does this by shifting x left by n bits and shifting the overflowed bits from the left back to the right, ensuring the result stays within 32 bits using & 0xFFFFFFFF."
   ]
  },
  {
   "cell_type": "code",
   "execution_count": 3,
   "metadata": {},
   "outputs": [],
   "source": [
    "def rotr(x, n=1):\n",
    "    \"\"\"Rotate bits in a 32-bit unsigned integer to the right n places.\"\"\"\n",
    "    return ((x >> n) | (x << (32 - n))) & 0xFFFFFFFF"
   ]
  },
  {
   "cell_type": "markdown",
   "metadata": {},
   "source": [
    "This function rotates the bits of a 32-bit unsigned integer x to the right by n positions. It does this by shifting x right by n bits and moving the bits that fall off back to the left, ensuring the result stays within 32 bits using & 0xFFFFFFFF."
   ]
  },
  {
   "cell_type": "code",
   "execution_count": 4,
   "metadata": {},
   "outputs": [],
   "source": [
    "def ch(x, y, z):\n",
    "    \"\"\"Choose bits from y where x has bits set to 1, and from z where x has bits set to 0.\"\"\"\n",
    "    return (x & y) ^ (~x & z)"
   ]
  },
  {
   "cell_type": "markdown",
   "metadata": {},
   "source": [
    "This function selects bits from y where x has 1s and from z where x has 0s. It works by using bitwise AND (&) to mask y with x, bitwise NOT (~) to invert x and mask z, and XOR (^) to combine the results."
   ]
  },
  {
   "cell_type": "code",
   "execution_count": 5,
   "metadata": {},
   "outputs": [],
   "source": [
    "def maj(x, y, z):\n",
    "    \"\"\"Majority vote of the bits in x, y, and z.\"\"\"\n",
    "    return (x & y) ^ (x & z) ^ (y & z)"
   ]
  },
  {
   "cell_type": "markdown",
   "metadata": {},
   "source": [
    "This function computes the majority vote for each bit position among x, y, and z, meaning a bit is set if at least two of the three inputs have it set. It achieves this by using bitwise AND (&) to find common bits in pairs and then combining them with XOR (^)."
   ]
  },
  {
   "cell_type": "code",
   "execution_count": 6,
   "metadata": {},
   "outputs": [
    {
     "name": "stdout",
     "output_type": "stream",
     "text": [
      "rotl(13, 1): 0b11010\n",
      "rotr(13, 1): 0b10000000000000000000000000000110\n",
      "ch(13, 11, 6): 0b1011\n",
      "maj(13, 11, 6): 0b1111\n"
     ]
    }
   ],
   "source": [
    "# Some Example Test Cases\n",
    "def test_functions():\n",
    "    x = 0b1101  # 13 in decimal\n",
    "    y = 0b1011  # 11 in decimal\n",
    "    z = 0b0110  # 6 in decimal\n",
    "    \n",
    "    print(\"rotl(13, 1):\", bin(rotl(x, 1)))\n",
    "    print(\"rotr(13, 1):\", bin(rotr(x, 1)))\n",
    "    print(\"ch(13, 11, 6):\", bin(ch(x, y, z)))\n",
    "    print(\"maj(13, 11, 6):\", bin(maj(x, y, z)))\n",
    "\n",
    "# Run the tests\n",
    "if __name__ == \"__main__\":\n",
    "    test_functions()"
   ]
  },
  {
   "cell_type": "markdown",
   "metadata": {},
   "source": [
    "## Task 2"
   ]
  },
  {
   "cell_type": "code",
   "execution_count": 7,
   "metadata": {},
   "outputs": [],
   "source": [
    "def hash_function(s):\n",
    "    \"\"\"Hash function from The C Programming Language by Kernighan and Ritchie.\"\"\"\n",
    "    hashval = 0\n",
    "    for char in s:\n",
    "        hashval = ord(char) + 31 * hashval\n",
    "    return hashval % 101\n"
   ]
  },
  {
   "cell_type": "code",
   "execution_count": 8,
   "metadata": {},
   "outputs": [
    {
     "name": "stdout",
     "output_type": "stream",
     "text": [
      "hash_function('hello'): 17\n",
      "hash_function('world'): 34\n",
      "hash_function('hash'): 15\n",
      "hash_function('function'): 100\n",
      "hash_function('test'): 86\n"
     ]
    }
   ],
   "source": [
    "    # Test the hash function\n",
    "test_strings = [\"hello\", \"world\", \"hash\", \"function\", \"test\"]\n",
    "for s in test_strings:\n",
    "        print(f\"hash_function('{s}'): {hash_function(s)}\")"
   ]
  },
  {
   "cell_type": "markdown",
   "metadata": {},
   "source": [
    "## Task 3"
   ]
  },
  {
   "cell_type": "code",
   "execution_count": null,
   "metadata": {},
   "outputs": [],
   "source": [
    "def sha256_padding(file_path):\n",
    "    \"\"\"Calculate the SHA256 padding for the given file and print it in hex.\"\"\"\n",
    "    with open(file_path, 'rb') as f:\n",
    "        data = f.read()\n",
    "    \n",
    "    length = len(data) * 8  # Length in bits\n",
    "    padding = b'\\x80'  # Starts with a single '1' bit\n",
    "    \n",
    "    # Now calculate the required padding length\n",
    "    while (len(data) + len(padding) + 8) % 64 != 0:\n",
    "        padding += b'\\x00'\n",
    "\n",
    "    # Append the original length as 64-bit big-endian\n",
    "    padding += length.to_bytes(8, 'big')\n",
    "    \n",
    "    # Print the padding in hex format\n",
    "    print(\" \".join(f\"{byte:02x}\" for byte in padding))"
   ]
  },
  {
   "cell_type": "code",
   "execution_count": 11,
   "metadata": {},
   "outputs": [
    {
     "name": "stdout",
     "output_type": "stream",
     "text": [
      "80 00 00 00 00 00 00 00 00 00 00 00 00 00 00 00 00 00 00 00 00 00 00 00 00 00 00 00 00 00 00 00 00 00 00 00 00 d0\n"
     ]
    }
   ],
   "source": [
    "sha256_padding(\"SHA256_padding_test.txt\")"
   ]
  },
  {
   "cell_type": "markdown",
   "metadata": {},
   "source": [
    "## Task 4"
   ]
  },
  {
   "cell_type": "code",
   "execution_count": 2,
   "metadata": {},
   "outputs": [],
   "source": [
    "def sieve_of_eratosthenes(limit):\n",
    "    \"\"\"Finds the first `limit` prime numbers using the Sieve of Eratosthenes algorithm.\"\"\"\n",
    "    primes = []\n",
    "    sieve = [True] * (limit * 10)\n",
    "    sieve[0] = sieve[1] = False  # 0 and 1 are not prime\n",
    "\n",
    "    for num in range(2, len(sieve)):\n",
    "        if sieve[num]:\n",
    "            primes.append(num)\n",
    "            if len(primes) == limit:\n",
    "                return primes\n",
    "            for multiple in range(num * num, len(sieve), num):\n",
    "                sieve[multiple] = False"
   ]
  },
  {
   "cell_type": "code",
   "execution_count": 3,
   "metadata": {},
   "outputs": [],
   "source": [
    "def trial_division(limit):\n",
    "    \"\"\"Finds the first `limit` prime numbers using trial division.\"\"\"\n",
    "    primes = []\n",
    "    num = 2\n",
    "    while len(primes) < limit:\n",
    "        is_prime = all(num % prime != 0 for prime in primes)\n",
    "        if is_prime:\n",
    "            primes.append(num)\n",
    "        num += 1\n",
    "    return primes"
   ]
  },
  {
   "cell_type": "code",
   "execution_count": 4,
   "metadata": {},
   "outputs": [
    {
     "name": "stdout",
     "output_type": "stream",
     "text": [
      "First 100 primes using Sieve of Eratosthenes:\n",
      "[2, 3, 5, 7, 11, 13, 17, 19, 23, 29, 31, 37, 41, 43, 47, 53, 59, 61, 67, 71, 73, 79, 83, 89, 97, 101, 103, 107, 109, 113, 127, 131, 137, 139, 149, 151, 157, 163, 167, 173, 179, 181, 191, 193, 197, 199, 211, 223, 227, 229, 233, 239, 241, 251, 257, 263, 269, 271, 277, 281, 283, 293, 307, 311, 313, 317, 331, 337, 347, 349, 353, 359, 367, 373, 379, 383, 389, 397, 401, 409, 419, 421, 431, 433, 439, 443, 449, 457, 461, 463, 467, 479, 487, 491, 499, 503, 509, 521, 523, 541]\n",
      "First 100 primes using Trial Division:\n",
      "[2, 3, 5, 7, 11, 13, 17, 19, 23, 29, 31, 37, 41, 43, 47, 53, 59, 61, 67, 71, 73, 79, 83, 89, 97, 101, 103, 107, 109, 113, 127, 131, 137, 139, 149, 151, 157, 163, 167, 173, 179, 181, 191, 193, 197, 199, 211, 223, 227, 229, 233, 239, 241, 251, 257, 263, 269, 271, 277, 281, 283, 293, 307, 311, 313, 317, 331, 337, 347, 349, 353, 359, 367, 373, 379, 383, 389, 397, 401, 409, 419, 421, 431, 433, 439, 443, 449, 457, 461, 463, 467, 479, 487, 491, 499, 503, 509, 521, 523, 541]\n"
     ]
    }
   ],
   "source": [
    "# Test prime number generation\n",
    "print(\"First 100 primes using Sieve of Eratosthenes:\")\n",
    "print(sieve_of_eratosthenes(100))\n",
    "    \n",
    "print(\"First 100 primes using Trial Division:\")\n",
    "print(trial_division(100))"
   ]
  },
  {
   "cell_type": "code",
   "execution_count": null,
   "metadata": {},
   "outputs": [],
   "source": []
  },
  {
   "cell_type": "markdown",
   "metadata": {},
   "source": [
    "## Task 5"
   ]
  },
  {
   "cell_type": "markdown",
   "metadata": {},
   "source": [
    "## Task 6"
   ]
  },
  {
   "cell_type": "markdown",
   "metadata": {},
   "source": [
    "## Task 7"
   ]
  },
  {
   "cell_type": "markdown",
   "metadata": {},
   "source": [
    "## Task 8"
   ]
  }
 ],
 "metadata": {
  "kernelspec": {
   "display_name": "Python 3",
   "language": "python",
   "name": "python3"
  },
  "language_info": {
   "codemirror_mode": {
    "name": "ipython",
    "version": 3
   },
   "file_extension": ".py",
   "mimetype": "text/x-python",
   "name": "python",
   "nbconvert_exporter": "python",
   "pygments_lexer": "ipython3",
   "version": "3.12.1"
  }
 },
 "nbformat": 4,
 "nbformat_minor": 2
}
